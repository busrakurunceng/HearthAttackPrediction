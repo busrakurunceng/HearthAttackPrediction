{
 "cells": [
  {
   "cell_type": "code",
   "execution_count": 1,
   "metadata": {
    "_cell_guid": "b1076dfc-b9ad-4769-8c92-a6c4dae69d19",
    "_uuid": "8f2839f25d086af736a60e9eeb907d3b93b6e0e5",
    "execution": {
     "iopub.execute_input": "2023-10-28T21:53:01.382052Z",
     "iopub.status.busy": "2023-10-28T21:53:01.381653Z",
     "iopub.status.idle": "2023-10-28T21:53:01.931041Z",
     "shell.execute_reply": "2023-10-28T21:53:01.929590Z",
     "shell.execute_reply.started": "2023-10-28T21:53:01.382013Z"
    }
   },
   "outputs": [],
   "source": [
    "# This Python 3 environment comes with many helpful analytics libraries installed\n",
    "# It is defined by the kaggle/python Docker image: https://github.com/kaggle/docker-python\n",
    "# For example, here's several helpful packages to load\n",
    "\n",
    "import numpy as np # linear algebra\n",
    "import pandas as pd # data processing, CSV file I/O (e.g. pd.read_csv)\n",
    "\n",
    "# Input data files are available in the read-only \"../input/\" directory\n",
    "# For example, running this (by clicking run or pressing Shift+Enter) will list all files under the input directory\n",
    "\n",
    "import os\n",
    "for dirname, _, filenames in os.walk('/kaggle/input'):\n",
    "    for filename in filenames:\n",
    "        print(os.path.join(dirname, filename))\n",
    "\n",
    "# You can write up to 20GB to the current directory (/kaggle/working/) that gets preserved as output when you create a version using \"Save & Run All\" \n",
    "# You can also write temporary files to /kaggle/temp/, but they won't be saved outside of the current session"
   ]
  },
  {
   "cell_type": "markdown",
   "metadata": {},
   "source": [
    "Kaggle linki: https://www.kaggle.com/code/brakurun/hearth-attack-logistic-regression"
   ]
  },
  {
   "cell_type": "code",
   "execution_count": 2,
   "metadata": {
    "execution": {
     "iopub.execute_input": "2023-10-28T21:53:01.934373Z",
     "iopub.status.busy": "2023-10-28T21:53:01.933727Z",
     "iopub.status.idle": "2023-10-28T21:53:02.088807Z",
     "shell.execute_reply": "2023-10-28T21:53:02.087380Z",
     "shell.execute_reply.started": "2023-10-28T21:53:01.934323Z"
    }
   },
   "outputs": [
    {
     "data": {
      "text/html": [
       "<div>\n",
       "<style scoped>\n",
       "    .dataframe tbody tr th:only-of-type {\n",
       "        vertical-align: middle;\n",
       "    }\n",
       "\n",
       "    .dataframe tbody tr th {\n",
       "        vertical-align: top;\n",
       "    }\n",
       "\n",
       "    .dataframe thead th {\n",
       "        text-align: right;\n",
       "    }\n",
       "</style>\n",
       "<table border=\"1\" class=\"dataframe\">\n",
       "  <thead>\n",
       "    <tr style=\"text-align: right;\">\n",
       "      <th></th>\n",
       "      <th>Patient ID</th>\n",
       "      <th>Age</th>\n",
       "      <th>Sex</th>\n",
       "      <th>Cholesterol</th>\n",
       "      <th>Blood Pressure</th>\n",
       "      <th>Heart Rate</th>\n",
       "      <th>Diabetes</th>\n",
       "      <th>Family History</th>\n",
       "      <th>Smoking</th>\n",
       "      <th>Obesity</th>\n",
       "      <th>...</th>\n",
       "      <th>Sedentary Hours Per Day</th>\n",
       "      <th>Income</th>\n",
       "      <th>BMI</th>\n",
       "      <th>Triglycerides</th>\n",
       "      <th>Physical Activity Days Per Week</th>\n",
       "      <th>Sleep Hours Per Day</th>\n",
       "      <th>Country</th>\n",
       "      <th>Continent</th>\n",
       "      <th>Hemisphere</th>\n",
       "      <th>Heart Attack Risk</th>\n",
       "    </tr>\n",
       "  </thead>\n",
       "  <tbody>\n",
       "    <tr>\n",
       "      <th>0</th>\n",
       "      <td>BMW7812</td>\n",
       "      <td>67</td>\n",
       "      <td>Male</td>\n",
       "      <td>208</td>\n",
       "      <td>158/88</td>\n",
       "      <td>72</td>\n",
       "      <td>0</td>\n",
       "      <td>0</td>\n",
       "      <td>1</td>\n",
       "      <td>0</td>\n",
       "      <td>...</td>\n",
       "      <td>6.615001</td>\n",
       "      <td>261404</td>\n",
       "      <td>31.251233</td>\n",
       "      <td>286</td>\n",
       "      <td>0</td>\n",
       "      <td>6</td>\n",
       "      <td>Argentina</td>\n",
       "      <td>South America</td>\n",
       "      <td>Southern Hemisphere</td>\n",
       "      <td>0</td>\n",
       "    </tr>\n",
       "    <tr>\n",
       "      <th>1</th>\n",
       "      <td>CZE1114</td>\n",
       "      <td>21</td>\n",
       "      <td>Male</td>\n",
       "      <td>389</td>\n",
       "      <td>165/93</td>\n",
       "      <td>98</td>\n",
       "      <td>1</td>\n",
       "      <td>1</td>\n",
       "      <td>1</td>\n",
       "      <td>1</td>\n",
       "      <td>...</td>\n",
       "      <td>4.963459</td>\n",
       "      <td>285768</td>\n",
       "      <td>27.194973</td>\n",
       "      <td>235</td>\n",
       "      <td>1</td>\n",
       "      <td>7</td>\n",
       "      <td>Canada</td>\n",
       "      <td>North America</td>\n",
       "      <td>Northern Hemisphere</td>\n",
       "      <td>0</td>\n",
       "    </tr>\n",
       "    <tr>\n",
       "      <th>2</th>\n",
       "      <td>BNI9906</td>\n",
       "      <td>21</td>\n",
       "      <td>Female</td>\n",
       "      <td>324</td>\n",
       "      <td>174/99</td>\n",
       "      <td>72</td>\n",
       "      <td>1</td>\n",
       "      <td>0</td>\n",
       "      <td>0</td>\n",
       "      <td>0</td>\n",
       "      <td>...</td>\n",
       "      <td>9.463426</td>\n",
       "      <td>235282</td>\n",
       "      <td>28.176571</td>\n",
       "      <td>587</td>\n",
       "      <td>4</td>\n",
       "      <td>4</td>\n",
       "      <td>France</td>\n",
       "      <td>Europe</td>\n",
       "      <td>Northern Hemisphere</td>\n",
       "      <td>0</td>\n",
       "    </tr>\n",
       "    <tr>\n",
       "      <th>3</th>\n",
       "      <td>JLN3497</td>\n",
       "      <td>84</td>\n",
       "      <td>Male</td>\n",
       "      <td>383</td>\n",
       "      <td>163/100</td>\n",
       "      <td>73</td>\n",
       "      <td>1</td>\n",
       "      <td>1</td>\n",
       "      <td>1</td>\n",
       "      <td>0</td>\n",
       "      <td>...</td>\n",
       "      <td>7.648981</td>\n",
       "      <td>125640</td>\n",
       "      <td>36.464704</td>\n",
       "      <td>378</td>\n",
       "      <td>3</td>\n",
       "      <td>4</td>\n",
       "      <td>Canada</td>\n",
       "      <td>North America</td>\n",
       "      <td>Northern Hemisphere</td>\n",
       "      <td>0</td>\n",
       "    </tr>\n",
       "    <tr>\n",
       "      <th>4</th>\n",
       "      <td>GFO8847</td>\n",
       "      <td>66</td>\n",
       "      <td>Male</td>\n",
       "      <td>318</td>\n",
       "      <td>91/88</td>\n",
       "      <td>93</td>\n",
       "      <td>1</td>\n",
       "      <td>1</td>\n",
       "      <td>1</td>\n",
       "      <td>1</td>\n",
       "      <td>...</td>\n",
       "      <td>1.514821</td>\n",
       "      <td>160555</td>\n",
       "      <td>21.809144</td>\n",
       "      <td>231</td>\n",
       "      <td>1</td>\n",
       "      <td>5</td>\n",
       "      <td>Thailand</td>\n",
       "      <td>Asia</td>\n",
       "      <td>Northern Hemisphere</td>\n",
       "      <td>0</td>\n",
       "    </tr>\n",
       "  </tbody>\n",
       "</table>\n",
       "<p>5 rows × 26 columns</p>\n",
       "</div>"
      ],
      "text/plain": [
       "  Patient ID  Age     Sex  Cholesterol Blood Pressure  Heart Rate  Diabetes  \\\n",
       "0    BMW7812   67    Male          208         158/88          72         0   \n",
       "1    CZE1114   21    Male          389         165/93          98         1   \n",
       "2    BNI9906   21  Female          324         174/99          72         1   \n",
       "3    JLN3497   84    Male          383        163/100          73         1   \n",
       "4    GFO8847   66    Male          318          91/88          93         1   \n",
       "\n",
       "   Family History  Smoking  Obesity  ...  Sedentary Hours Per Day  Income  \\\n",
       "0               0        1        0  ...                 6.615001  261404   \n",
       "1               1        1        1  ...                 4.963459  285768   \n",
       "2               0        0        0  ...                 9.463426  235282   \n",
       "3               1        1        0  ...                 7.648981  125640   \n",
       "4               1        1        1  ...                 1.514821  160555   \n",
       "\n",
       "         BMI  Triglycerides  Physical Activity Days Per Week  \\\n",
       "0  31.251233            286                                0   \n",
       "1  27.194973            235                                1   \n",
       "2  28.176571            587                                4   \n",
       "3  36.464704            378                                3   \n",
       "4  21.809144            231                                1   \n",
       "\n",
       "   Sleep Hours Per Day    Country      Continent           Hemisphere  \\\n",
       "0                    6  Argentina  South America  Southern Hemisphere   \n",
       "1                    7     Canada  North America  Northern Hemisphere   \n",
       "2                    4     France         Europe  Northern Hemisphere   \n",
       "3                    4     Canada  North America  Northern Hemisphere   \n",
       "4                    5   Thailand           Asia  Northern Hemisphere   \n",
       "\n",
       "   Heart Attack Risk  \n",
       "0                  0  \n",
       "1                  0  \n",
       "2                  0  \n",
       "3                  0  \n",
       "4                  0  \n",
       "\n",
       "[5 rows x 26 columns]"
      ]
     },
     "execution_count": 2,
     "metadata": {},
     "output_type": "execute_result"
    }
   ],
   "source": [
    "df = pd.read_csv(\"heart_attack_prediction_dataset.csv\")\n",
    "df.head()"
   ]
  },
  {
   "cell_type": "code",
   "execution_count": 3,
   "metadata": {
    "execution": {
     "iopub.execute_input": "2023-10-28T21:53:02.091199Z",
     "iopub.status.busy": "2023-10-28T21:53:02.090311Z",
     "iopub.status.idle": "2023-10-28T21:53:02.136899Z",
     "shell.execute_reply": "2023-10-28T21:53:02.134072Z",
     "shell.execute_reply.started": "2023-10-28T21:53:02.091153Z"
    }
   },
   "outputs": [
    {
     "name": "stdout",
     "output_type": "stream",
     "text": [
      "<class 'pandas.core.frame.DataFrame'>\n",
      "RangeIndex: 8763 entries, 0 to 8762\n",
      "Data columns (total 26 columns):\n",
      " #   Column                           Non-Null Count  Dtype  \n",
      "---  ------                           --------------  -----  \n",
      " 0   Patient ID                       8763 non-null   object \n",
      " 1   Age                              8763 non-null   int64  \n",
      " 2   Sex                              8763 non-null   object \n",
      " 3   Cholesterol                      8763 non-null   int64  \n",
      " 4   Blood Pressure                   8763 non-null   object \n",
      " 5   Heart Rate                       8763 non-null   int64  \n",
      " 6   Diabetes                         8763 non-null   int64  \n",
      " 7   Family History                   8763 non-null   int64  \n",
      " 8   Smoking                          8763 non-null   int64  \n",
      " 9   Obesity                          8763 non-null   int64  \n",
      " 10  Alcohol Consumption              8763 non-null   int64  \n",
      " 11  Exercise Hours Per Week          8763 non-null   float64\n",
      " 12  Diet                             8763 non-null   object \n",
      " 13  Previous Heart Problems          8763 non-null   int64  \n",
      " 14  Medication Use                   8763 non-null   int64  \n",
      " 15  Stress Level                     8763 non-null   int64  \n",
      " 16  Sedentary Hours Per Day          8763 non-null   float64\n",
      " 17  Income                           8763 non-null   int64  \n",
      " 18  BMI                              8763 non-null   float64\n",
      " 19  Triglycerides                    8763 non-null   int64  \n",
      " 20  Physical Activity Days Per Week  8763 non-null   int64  \n",
      " 21  Sleep Hours Per Day              8763 non-null   int64  \n",
      " 22  Country                          8763 non-null   object \n",
      " 23  Continent                        8763 non-null   object \n",
      " 24  Hemisphere                       8763 non-null   object \n",
      " 25  Heart Attack Risk                8763 non-null   int64  \n",
      "dtypes: float64(3), int64(16), object(7)\n",
      "memory usage: 1.7+ MB\n"
     ]
    }
   ],
   "source": [
    "df.info()"
   ]
  },
  {
   "cell_type": "code",
   "execution_count": 4,
   "metadata": {
    "execution": {
     "iopub.execute_input": "2023-10-28T21:53:02.141024Z",
     "iopub.status.busy": "2023-10-28T21:53:02.140513Z",
     "iopub.status.idle": "2023-10-28T21:53:02.162224Z",
     "shell.execute_reply": "2023-10-28T21:53:02.160589Z",
     "shell.execute_reply.started": "2023-10-28T21:53:02.140986Z"
    }
   },
   "outputs": [
    {
     "data": {
      "text/plain": [
       "Patient ID                         0\n",
       "Age                                0\n",
       "Sex                                0\n",
       "Cholesterol                        0\n",
       "Blood Pressure                     0\n",
       "Heart Rate                         0\n",
       "Diabetes                           0\n",
       "Family History                     0\n",
       "Smoking                            0\n",
       "Obesity                            0\n",
       "Alcohol Consumption                0\n",
       "Exercise Hours Per Week            0\n",
       "Diet                               0\n",
       "Previous Heart Problems            0\n",
       "Medication Use                     0\n",
       "Stress Level                       0\n",
       "Sedentary Hours Per Day            0\n",
       "Income                             0\n",
       "BMI                                0\n",
       "Triglycerides                      0\n",
       "Physical Activity Days Per Week    0\n",
       "Sleep Hours Per Day                0\n",
       "Country                            0\n",
       "Continent                          0\n",
       "Hemisphere                         0\n",
       "Heart Attack Risk                  0\n",
       "dtype: int64"
      ]
     },
     "execution_count": 4,
     "metadata": {},
     "output_type": "execute_result"
    }
   ],
   "source": [
    "df.isnull().sum()"
   ]
  },
  {
   "cell_type": "code",
   "execution_count": 5,
   "metadata": {
    "execution": {
     "iopub.execute_input": "2023-10-28T21:53:02.167784Z",
     "iopub.status.busy": "2023-10-28T21:53:02.167178Z",
     "iopub.status.idle": "2023-10-28T21:53:02.202996Z",
     "shell.execute_reply": "2023-10-28T21:53:02.201384Z",
     "shell.execute_reply.started": "2023-10-28T21:53:02.167746Z"
    }
   },
   "outputs": [
    {
     "data": {
      "text/html": [
       "<div>\n",
       "<style scoped>\n",
       "    .dataframe tbody tr th:only-of-type {\n",
       "        vertical-align: middle;\n",
       "    }\n",
       "\n",
       "    .dataframe tbody tr th {\n",
       "        vertical-align: top;\n",
       "    }\n",
       "\n",
       "    .dataframe thead th {\n",
       "        text-align: right;\n",
       "    }\n",
       "</style>\n",
       "<table border=\"1\" class=\"dataframe\">\n",
       "  <thead>\n",
       "    <tr style=\"text-align: right;\">\n",
       "      <th></th>\n",
       "      <th>Age</th>\n",
       "      <th>Sex</th>\n",
       "      <th>Cholesterol</th>\n",
       "      <th>Blood Pressure</th>\n",
       "      <th>Heart Rate</th>\n",
       "      <th>Diabetes</th>\n",
       "      <th>Family History</th>\n",
       "      <th>Smoking</th>\n",
       "      <th>Obesity</th>\n",
       "      <th>Alcohol Consumption</th>\n",
       "      <th>...</th>\n",
       "      <th>Sedentary Hours Per Day</th>\n",
       "      <th>Income</th>\n",
       "      <th>BMI</th>\n",
       "      <th>Triglycerides</th>\n",
       "      <th>Physical Activity Days Per Week</th>\n",
       "      <th>Sleep Hours Per Day</th>\n",
       "      <th>Country</th>\n",
       "      <th>Continent</th>\n",
       "      <th>Hemisphere</th>\n",
       "      <th>Heart Attack Risk</th>\n",
       "    </tr>\n",
       "  </thead>\n",
       "  <tbody>\n",
       "    <tr>\n",
       "      <th>0</th>\n",
       "      <td>67</td>\n",
       "      <td>Male</td>\n",
       "      <td>208</td>\n",
       "      <td>158/88</td>\n",
       "      <td>72</td>\n",
       "      <td>0</td>\n",
       "      <td>0</td>\n",
       "      <td>1</td>\n",
       "      <td>0</td>\n",
       "      <td>0</td>\n",
       "      <td>...</td>\n",
       "      <td>6.615001</td>\n",
       "      <td>261404</td>\n",
       "      <td>31.251233</td>\n",
       "      <td>286</td>\n",
       "      <td>0</td>\n",
       "      <td>6</td>\n",
       "      <td>Argentina</td>\n",
       "      <td>South America</td>\n",
       "      <td>Southern Hemisphere</td>\n",
       "      <td>0</td>\n",
       "    </tr>\n",
       "    <tr>\n",
       "      <th>1</th>\n",
       "      <td>21</td>\n",
       "      <td>Male</td>\n",
       "      <td>389</td>\n",
       "      <td>165/93</td>\n",
       "      <td>98</td>\n",
       "      <td>1</td>\n",
       "      <td>1</td>\n",
       "      <td>1</td>\n",
       "      <td>1</td>\n",
       "      <td>1</td>\n",
       "      <td>...</td>\n",
       "      <td>4.963459</td>\n",
       "      <td>285768</td>\n",
       "      <td>27.194973</td>\n",
       "      <td>235</td>\n",
       "      <td>1</td>\n",
       "      <td>7</td>\n",
       "      <td>Canada</td>\n",
       "      <td>North America</td>\n",
       "      <td>Northern Hemisphere</td>\n",
       "      <td>0</td>\n",
       "    </tr>\n",
       "    <tr>\n",
       "      <th>2</th>\n",
       "      <td>21</td>\n",
       "      <td>Female</td>\n",
       "      <td>324</td>\n",
       "      <td>174/99</td>\n",
       "      <td>72</td>\n",
       "      <td>1</td>\n",
       "      <td>0</td>\n",
       "      <td>0</td>\n",
       "      <td>0</td>\n",
       "      <td>0</td>\n",
       "      <td>...</td>\n",
       "      <td>9.463426</td>\n",
       "      <td>235282</td>\n",
       "      <td>28.176571</td>\n",
       "      <td>587</td>\n",
       "      <td>4</td>\n",
       "      <td>4</td>\n",
       "      <td>France</td>\n",
       "      <td>Europe</td>\n",
       "      <td>Northern Hemisphere</td>\n",
       "      <td>0</td>\n",
       "    </tr>\n",
       "    <tr>\n",
       "      <th>3</th>\n",
       "      <td>84</td>\n",
       "      <td>Male</td>\n",
       "      <td>383</td>\n",
       "      <td>163/100</td>\n",
       "      <td>73</td>\n",
       "      <td>1</td>\n",
       "      <td>1</td>\n",
       "      <td>1</td>\n",
       "      <td>0</td>\n",
       "      <td>1</td>\n",
       "      <td>...</td>\n",
       "      <td>7.648981</td>\n",
       "      <td>125640</td>\n",
       "      <td>36.464704</td>\n",
       "      <td>378</td>\n",
       "      <td>3</td>\n",
       "      <td>4</td>\n",
       "      <td>Canada</td>\n",
       "      <td>North America</td>\n",
       "      <td>Northern Hemisphere</td>\n",
       "      <td>0</td>\n",
       "    </tr>\n",
       "    <tr>\n",
       "      <th>4</th>\n",
       "      <td>66</td>\n",
       "      <td>Male</td>\n",
       "      <td>318</td>\n",
       "      <td>91/88</td>\n",
       "      <td>93</td>\n",
       "      <td>1</td>\n",
       "      <td>1</td>\n",
       "      <td>1</td>\n",
       "      <td>1</td>\n",
       "      <td>0</td>\n",
       "      <td>...</td>\n",
       "      <td>1.514821</td>\n",
       "      <td>160555</td>\n",
       "      <td>21.809144</td>\n",
       "      <td>231</td>\n",
       "      <td>1</td>\n",
       "      <td>5</td>\n",
       "      <td>Thailand</td>\n",
       "      <td>Asia</td>\n",
       "      <td>Northern Hemisphere</td>\n",
       "      <td>0</td>\n",
       "    </tr>\n",
       "  </tbody>\n",
       "</table>\n",
       "<p>5 rows × 25 columns</p>\n",
       "</div>"
      ],
      "text/plain": [
       "   Age     Sex  Cholesterol Blood Pressure  Heart Rate  Diabetes  \\\n",
       "0   67    Male          208         158/88          72         0   \n",
       "1   21    Male          389         165/93          98         1   \n",
       "2   21  Female          324         174/99          72         1   \n",
       "3   84    Male          383        163/100          73         1   \n",
       "4   66    Male          318          91/88          93         1   \n",
       "\n",
       "   Family History  Smoking  Obesity  Alcohol Consumption  ...  \\\n",
       "0               0        1        0                    0  ...   \n",
       "1               1        1        1                    1  ...   \n",
       "2               0        0        0                    0  ...   \n",
       "3               1        1        0                    1  ...   \n",
       "4               1        1        1                    0  ...   \n",
       "\n",
       "   Sedentary Hours Per Day  Income        BMI  Triglycerides  \\\n",
       "0                 6.615001  261404  31.251233            286   \n",
       "1                 4.963459  285768  27.194973            235   \n",
       "2                 9.463426  235282  28.176571            587   \n",
       "3                 7.648981  125640  36.464704            378   \n",
       "4                 1.514821  160555  21.809144            231   \n",
       "\n",
       "   Physical Activity Days Per Week  Sleep Hours Per Day    Country  \\\n",
       "0                                0                    6  Argentina   \n",
       "1                                1                    7     Canada   \n",
       "2                                4                    4     France   \n",
       "3                                3                    4     Canada   \n",
       "4                                1                    5   Thailand   \n",
       "\n",
       "       Continent           Hemisphere  Heart Attack Risk  \n",
       "0  South America  Southern Hemisphere                  0  \n",
       "1  North America  Northern Hemisphere                  0  \n",
       "2         Europe  Northern Hemisphere                  0  \n",
       "3  North America  Northern Hemisphere                  0  \n",
       "4           Asia  Northern Hemisphere                  0  \n",
       "\n",
       "[5 rows x 25 columns]"
      ]
     },
     "execution_count": 5,
     "metadata": {},
     "output_type": "execute_result"
    }
   ],
   "source": [
    "df.drop(\"Patient ID\", axis=1, inplace=True)\n",
    "df.head()"
   ]
  },
  {
   "cell_type": "markdown",
   "metadata": {},
   "source": [
    "\"Patient ID\" sütunu modelimde kullanmayacağım için \"Patient ID\" sütunu veri çerçevesinden kaldırıyorum."
   ]
  },
  {
   "cell_type": "code",
   "execution_count": 6,
   "metadata": {
    "execution": {
     "iopub.execute_input": "2023-10-28T21:53:02.205975Z",
     "iopub.status.busy": "2023-10-28T21:53:02.205508Z",
     "iopub.status.idle": "2023-10-28T21:53:02.216307Z",
     "shell.execute_reply": "2023-10-28T21:53:02.214743Z",
     "shell.execute_reply.started": "2023-10-28T21:53:02.205936Z"
    }
   },
   "outputs": [],
   "source": [
    "X = df.drop('Heart Attack Risk', axis=1)\n",
    "y = df['Heart Attack Risk']\n"
   ]
  },
  {
   "cell_type": "markdown",
   "metadata": {},
   "source": [
    "lojistik regresyon modelinizin kategorik (categorical) verileri doğrudan işleyemez. Kategorik verileri, sayısal verilere dönüştürmeniz gerekmektedir. Bu dönüşüm işlemi genellikle \"One-Hot Encoding\" veya \"Label Encoding\" gibi yöntemlerle yapılır.\n",
    "\n",
    "\"Label Encoding\" kategorik verileri sayısal etiketlere dönüştüren bir yöntemdir, ancak bu yöntem lojistik regresyon gibi algoritmalar için pek uygun değildir. \"One-Hot Encoding\" ise her kategoriye ayrı bir sütun oluşturarak veriyi dönüştürür. Bu, kategorik verileri uygun bir şekilde sayısal verilere dönüştürmek için daha yaygın olarak kullanılan bir yöntemdir.\n",
    "\n",
    "Önce veri setinizde hangi sütunların kategorik olduğunu belirledim ve ardından, bu kategorik sütunları \"One-Hot Encoding\" kullanarak dönüştürdüm."
   ]
  },
  {
   "cell_type": "code",
   "execution_count": 7,
   "metadata": {
    "execution": {
     "iopub.execute_input": "2023-10-28T21:53:02.218907Z",
     "iopub.status.busy": "2023-10-28T21:53:02.218416Z",
     "iopub.status.idle": "2023-10-28T21:53:03.546102Z",
     "shell.execute_reply": "2023-10-28T21:53:03.544578Z",
     "shell.execute_reply.started": "2023-10-28T21:53:02.218861Z"
    }
   },
   "outputs": [
    {
     "name": "stdout",
     "output_type": "stream",
     "text": [
      "Eğitim veri seti boyutu: (7010, 3960)\n",
      "Test veri seti boyutu: (1753, 3960)\n",
      "Eğitim çıkış boyutu: (7010,)\n",
      "Test çıkış boyutu: (1753,)\n"
     ]
    }
   ],
   "source": [
    "from sklearn.model_selection import train_test_split\n",
    "\n",
    "X = df[['Age', 'Sex', 'Cholesterol', 'Blood Pressure', 'Heart Rate', 'Diabetes', 'Family History', 'Smoking', 'Obesity', \n",
    "        'Alcohol Consumption', 'Exercise Hours Per Week', 'Diet', 'Previous Heart Problems', 'Medication Use', 'Stress Level',\n",
    "        'Sedentary Hours Per Day', 'Income', 'BMI', 'Triglycerides', 'Physical Activity Days Per Week', 'Sleep Hours Per Day',\n",
    "        'Country', 'Continent', 'Hemisphere']]\n",
    "y = df['Heart Attack Risk']\n",
    "\n",
    "# Kategorik sütunları One-Hot Encoding yapın\n",
    "X = pd.get_dummies(X, columns=['Sex', 'Blood Pressure', 'Diet', 'Country', 'Continent', 'Hemisphere'], drop_first=True)\n",
    "\n",
    "# Şimdi One-Hot Encoding yapılmış veriyi kullanarak modeli tekrar eğitin\n",
    "X_train, X_test, y_train, y_test = train_test_split(X, y, test_size=0.2, random_state=42)\n",
    "\n",
    "print('Eğitim veri seti boyutu:',X_train.shape)\n",
    "print(\"Test veri seti boyutu:\", X_test.shape)\n",
    "print(\"Eğitim çıkış boyutu:\", y_train.shape)\n",
    "print(\"Test çıkış boyutu:\", y_test.shape)\n"
   ]
  },
  {
   "cell_type": "markdown",
   "metadata": {},
   "source": [
    "Modelimizi eğitmeden önce değerlerimizi standardize etmemiz faydalı olacaktır."
   ]
  },
  {
   "cell_type": "code",
   "execution_count": 8,
   "metadata": {
    "execution": {
     "iopub.execute_input": "2023-10-28T21:53:03.548571Z",
     "iopub.status.busy": "2023-10-28T21:53:03.548088Z",
     "iopub.status.idle": "2023-10-28T21:53:06.221450Z",
     "shell.execute_reply": "2023-10-28T21:53:06.219597Z",
     "shell.execute_reply.started": "2023-10-28T21:53:03.548532Z"
    }
   },
   "outputs": [],
   "source": [
    "from sklearn.preprocessing import StandardScaler\n",
    "\n",
    "scaler = StandardScaler()\n",
    "x_train_scaled = scaler.fit_transform(X_train)\n",
    "x_test_scaled = scaler.transform(X_test)"
   ]
  },
  {
   "cell_type": "code",
   "execution_count": 9,
   "metadata": {
    "execution": {
     "iopub.execute_input": "2023-10-28T21:53:06.224158Z",
     "iopub.status.busy": "2023-10-28T21:53:06.223601Z",
     "iopub.status.idle": "2023-10-28T21:53:10.383632Z",
     "shell.execute_reply": "2023-10-28T21:53:10.381102Z",
     "shell.execute_reply.started": "2023-10-28T21:53:06.224115Z"
    }
   },
   "outputs": [
    {
     "data": {
      "text/html": [
       "<style>#sk-container-id-1 {color: black;}#sk-container-id-1 pre{padding: 0;}#sk-container-id-1 div.sk-toggleable {background-color: white;}#sk-container-id-1 label.sk-toggleable__label {cursor: pointer;display: block;width: 100%;margin-bottom: 0;padding: 0.3em;box-sizing: border-box;text-align: center;}#sk-container-id-1 label.sk-toggleable__label-arrow:before {content: \"▸\";float: left;margin-right: 0.25em;color: #696969;}#sk-container-id-1 label.sk-toggleable__label-arrow:hover:before {color: black;}#sk-container-id-1 div.sk-estimator:hover label.sk-toggleable__label-arrow:before {color: black;}#sk-container-id-1 div.sk-toggleable__content {max-height: 0;max-width: 0;overflow: hidden;text-align: left;background-color: #f0f8ff;}#sk-container-id-1 div.sk-toggleable__content pre {margin: 0.2em;color: black;border-radius: 0.25em;background-color: #f0f8ff;}#sk-container-id-1 input.sk-toggleable__control:checked~div.sk-toggleable__content {max-height: 200px;max-width: 100%;overflow: auto;}#sk-container-id-1 input.sk-toggleable__control:checked~label.sk-toggleable__label-arrow:before {content: \"▾\";}#sk-container-id-1 div.sk-estimator input.sk-toggleable__control:checked~label.sk-toggleable__label {background-color: #d4ebff;}#sk-container-id-1 div.sk-label input.sk-toggleable__control:checked~label.sk-toggleable__label {background-color: #d4ebff;}#sk-container-id-1 input.sk-hidden--visually {border: 0;clip: rect(1px 1px 1px 1px);clip: rect(1px, 1px, 1px, 1px);height: 1px;margin: -1px;overflow: hidden;padding: 0;position: absolute;width: 1px;}#sk-container-id-1 div.sk-estimator {font-family: monospace;background-color: #f0f8ff;border: 1px dotted black;border-radius: 0.25em;box-sizing: border-box;margin-bottom: 0.5em;}#sk-container-id-1 div.sk-estimator:hover {background-color: #d4ebff;}#sk-container-id-1 div.sk-parallel-item::after {content: \"\";width: 100%;border-bottom: 1px solid gray;flex-grow: 1;}#sk-container-id-1 div.sk-label:hover label.sk-toggleable__label {background-color: #d4ebff;}#sk-container-id-1 div.sk-serial::before {content: \"\";position: absolute;border-left: 1px solid gray;box-sizing: border-box;top: 0;bottom: 0;left: 50%;z-index: 0;}#sk-container-id-1 div.sk-serial {display: flex;flex-direction: column;align-items: center;background-color: white;padding-right: 0.2em;padding-left: 0.2em;position: relative;}#sk-container-id-1 div.sk-item {position: relative;z-index: 1;}#sk-container-id-1 div.sk-parallel {display: flex;align-items: stretch;justify-content: center;background-color: white;position: relative;}#sk-container-id-1 div.sk-item::before, #sk-container-id-1 div.sk-parallel-item::before {content: \"\";position: absolute;border-left: 1px solid gray;box-sizing: border-box;top: 0;bottom: 0;left: 50%;z-index: -1;}#sk-container-id-1 div.sk-parallel-item {display: flex;flex-direction: column;z-index: 1;position: relative;background-color: white;}#sk-container-id-1 div.sk-parallel-item:first-child::after {align-self: flex-end;width: 50%;}#sk-container-id-1 div.sk-parallel-item:last-child::after {align-self: flex-start;width: 50%;}#sk-container-id-1 div.sk-parallel-item:only-child::after {width: 0;}#sk-container-id-1 div.sk-dashed-wrapped {border: 1px dashed gray;margin: 0 0.4em 0.5em 0.4em;box-sizing: border-box;padding-bottom: 0.4em;background-color: white;}#sk-container-id-1 div.sk-label label {font-family: monospace;font-weight: bold;display: inline-block;line-height: 1.2em;}#sk-container-id-1 div.sk-label-container {text-align: center;}#sk-container-id-1 div.sk-container {/* jupyter's `normalize.less` sets `[hidden] { display: none; }` but bootstrap.min.css set `[hidden] { display: none !important; }` so we also need the `!important` here to be able to override the default hidden behavior on the sphinx rendered scikit-learn.org. See: https://github.com/scikit-learn/scikit-learn/issues/21755 */display: inline-block !important;position: relative;}#sk-container-id-1 div.sk-text-repr-fallback {display: none;}</style><div id=\"sk-container-id-1\" class=\"sk-top-container\"><div class=\"sk-text-repr-fallback\"><pre>LogisticRegression()</pre><b>In a Jupyter environment, please rerun this cell to show the HTML representation or trust the notebook. <br />On GitHub, the HTML representation is unable to render, please try loading this page with nbviewer.org.</b></div><div class=\"sk-container\" hidden><div class=\"sk-item\"><div class=\"sk-estimator sk-toggleable\"><input class=\"sk-toggleable__control sk-hidden--visually\" id=\"sk-estimator-id-1\" type=\"checkbox\" checked><label for=\"sk-estimator-id-1\" class=\"sk-toggleable__label sk-toggleable__label-arrow\">LogisticRegression</label><div class=\"sk-toggleable__content\"><pre>LogisticRegression()</pre></div></div></div></div></div>"
      ],
      "text/plain": [
       "LogisticRegression()"
      ]
     },
     "execution_count": 9,
     "metadata": {},
     "output_type": "execute_result"
    }
   ],
   "source": [
    "from sklearn.linear_model import LogisticRegression\n",
    "\n",
    "model = LogisticRegression()\n",
    "model.fit(x_train_scaled, y_train)"
   ]
  },
  {
   "cell_type": "markdown",
   "metadata": {},
   "source": [
    "Parametre ve bias değerlerimizi görelim."
   ]
  },
  {
   "cell_type": "code",
   "execution_count": 10,
   "metadata": {
    "execution": {
     "iopub.execute_input": "2023-10-28T21:53:10.408069Z",
     "iopub.status.busy": "2023-10-28T21:53:10.406140Z",
     "iopub.status.idle": "2023-10-28T21:53:10.424832Z",
     "shell.execute_reply": "2023-10-28T21:53:10.422581Z",
     "shell.execute_reply.started": "2023-10-28T21:53:10.407996Z"
    }
   },
   "outputs": [
    {
     "name": "stdout",
     "output_type": "stream",
     "text": [
      "[[ 0.08515822  0.05963791 -0.02645323 ... -0.01428559  0.0704677\n",
      "   0.00490383]]\n",
      "[-1.89174239]\n"
     ]
    }
   ],
   "source": [
    "print(model.coef_)\n",
    "print(model.intercept_)"
   ]
  },
  {
   "cell_type": "code",
   "execution_count": 11,
   "metadata": {
    "execution": {
     "iopub.execute_input": "2023-10-28T21:53:10.432103Z",
     "iopub.status.busy": "2023-10-28T21:53:10.428665Z",
     "iopub.status.idle": "2023-10-28T21:53:10.476802Z",
     "shell.execute_reply": "2023-10-28T21:53:10.474866Z",
     "shell.execute_reply.started": "2023-10-28T21:53:10.432003Z"
    }
   },
   "outputs": [],
   "source": [
    "y_head = model.predict(x_test_scaled)"
   ]
  },
  {
   "cell_type": "markdown",
   "metadata": {},
   "source": [
    "Modeli değerlendirmek için sık kullanılan birkaç metriği deneyerek başarı oranlarını gözlemleyelim:\n",
    "\n",
    "Doğruluk (Accuracy): Doğruluk, modelinizin doğru sınıflandırma oranını gösterir. Doğru tahminlerin toplam verilere oranıdır."
   ]
  },
  {
   "cell_type": "code",
   "execution_count": 12,
   "metadata": {
    "execution": {
     "iopub.execute_input": "2023-10-28T21:53:10.482824Z",
     "iopub.status.busy": "2023-10-28T21:53:10.479821Z",
     "iopub.status.idle": "2023-10-28T21:53:10.501613Z",
     "shell.execute_reply": "2023-10-28T21:53:10.499860Z",
     "shell.execute_reply.started": "2023-10-28T21:53:10.482762Z"
    }
   },
   "outputs": [
    {
     "name": "stdout",
     "output_type": "stream",
     "text": [
      "Accuracy : % 0.5693097547062179\n"
     ]
    }
   ],
   "source": [
    "from sklearn.metrics import accuracy_score\n",
    "accuracy = accuracy_score(y_test,y_head)\n",
    "print(\"Accuracy : %\",accuracy)"
   ]
  },
  {
   "cell_type": "markdown",
   "metadata": {},
   "source": [
    "Hassasiyet (Precision): Hassasiyet, pozitif olarak tahmin edilen örneklerin kaçının gerçekten pozitif olduğunu gösterir."
   ]
  },
  {
   "cell_type": "code",
   "execution_count": 13,
   "metadata": {
    "execution": {
     "iopub.execute_input": "2023-10-28T21:53:10.507934Z",
     "iopub.status.busy": "2023-10-28T21:53:10.504828Z",
     "iopub.status.idle": "2023-10-28T21:53:10.532452Z",
     "shell.execute_reply": "2023-10-28T21:53:10.530585Z",
     "shell.execute_reply.started": "2023-10-28T21:53:10.507872Z"
    }
   },
   "outputs": [
    {
     "name": "stdout",
     "output_type": "stream",
     "text": [
      "Precision: % 0.3727454909819639\n"
     ]
    }
   ],
   "source": [
    "from sklearn.metrics import precision_score\n",
    "precision = precision_score(y_test, y_head)\n",
    "print(\"Precision: %\", precision)\n"
   ]
  },
  {
   "cell_type": "markdown",
   "metadata": {},
   "source": [
    "Duyarlılık (Recall): Duyarlılık, gerçek pozitif örneklerin ne kadarının doğru bir şekilde pozitif olarak tahmin edildiğini gösterir. "
   ]
  },
  {
   "cell_type": "code",
   "execution_count": 14,
   "metadata": {
    "execution": {
     "iopub.execute_input": "2023-10-28T21:53:10.538212Z",
     "iopub.status.busy": "2023-10-28T21:53:10.535888Z",
     "iopub.status.idle": "2023-10-28T21:53:10.562934Z",
     "shell.execute_reply": "2023-10-28T21:53:10.561212Z",
     "shell.execute_reply.started": "2023-10-28T21:53:10.538144Z"
    }
   },
   "outputs": [
    {
     "name": "stdout",
     "output_type": "stream",
     "text": [
      "Recall: % 0.2961783439490446\n"
     ]
    }
   ],
   "source": [
    "from sklearn.metrics import recall_score\n",
    "recall = recall_score(y_test, y_head)\n",
    "\n",
    "print(\"Recall: %\", recall)\n"
   ]
  },
  {
   "cell_type": "markdown",
   "metadata": {},
   "source": [
    "F1 Skoru: F1 skoru, hassasiyet ve duyarlılığın harmonik ortalamasıdır ve hem false positive hem de false negative hataları dikkate alır. "
   ]
  },
  {
   "cell_type": "code",
   "execution_count": 15,
   "metadata": {
    "execution": {
     "iopub.execute_input": "2023-10-28T21:53:10.568664Z",
     "iopub.status.busy": "2023-10-28T21:53:10.566380Z",
     "iopub.status.idle": "2023-10-28T21:53:10.593458Z",
     "shell.execute_reply": "2023-10-28T21:53:10.592351Z",
     "shell.execute_reply.started": "2023-10-28T21:53:10.568608Z"
    }
   },
   "outputs": [
    {
     "name": "stdout",
     "output_type": "stream",
     "text": [
      "F1 Score: % 0.3300798580301686\n"
     ]
    }
   ],
   "source": [
    "from sklearn.metrics import f1_score\n",
    "f1 = f1_score(y_test, y_head)\n",
    "\n",
    "print(\"F1 Score: %\", f1)\n"
   ]
  },
  {
   "cell_type": "markdown",
   "metadata": {},
   "source": [
    "Tüm metrikleri alt alta print fonksiyonu ile yazarak düzenli şekilde tüm oranları görebiliriz."
   ]
  },
  {
   "cell_type": "code",
   "execution_count": 16,
   "metadata": {
    "execution": {
     "iopub.execute_input": "2023-10-28T21:53:10.599297Z",
     "iopub.status.busy": "2023-10-28T21:53:10.597283Z",
     "iopub.status.idle": "2023-10-28T21:53:10.607210Z",
     "shell.execute_reply": "2023-10-28T21:53:10.605909Z",
     "shell.execute_reply.started": "2023-10-28T21:53:10.599264Z"
    }
   },
   "outputs": [
    {
     "name": "stdout",
     "output_type": "stream",
     "text": [
      "Accuracy:  0.5693097547062179\n",
      "Precision:  0.3727454909819639\n",
      "Recall:  0.2961783439490446\n",
      "F1 Score:  0.3300798580301686\n"
     ]
    }
   ],
   "source": [
    "print(\"Accuracy: \", accuracy)\n",
    "print(\"Precision: \", precision)\n",
    "print(\"Recall: \", recall)\n",
    "print(\"F1 Score: \", f1)"
   ]
  },
  {
   "cell_type": "markdown",
   "metadata": {},
   "source": [
    "Görüldüğü üzere en iyi oran Doğruluk (Accuracy) metriksinde çıktı. Ama yine de çok iyi bir oran olduğu söylenemez. Peki daha iyi bir oran bulabilir miyiz?"
   ]
  },
  {
   "cell_type": "code",
   "execution_count": null,
   "metadata": {
    "execution": {
     "iopub.execute_input": "2023-10-28T22:28:47.949534Z",
     "iopub.status.busy": "2023-10-28T22:28:47.949124Z",
     "iopub.status.idle": "2023-10-28T22:28:47.959791Z",
     "shell.execute_reply": "2023-10-28T22:28:47.958236Z",
     "shell.execute_reply.started": "2023-10-28T22:28:47.949504Z"
    }
   },
   "outputs": [],
   "source": []
  },
  {
   "cell_type": "markdown",
   "metadata": {},
   "source": [
    "Grid Search, belirli bir hiperparametre aralığında farklı değerleri deneyerek en iyi hiperparametre kombinasyonunu bulmanıza yardımcı olur. Bu, modelinizi daha iyi performanslı hale getirmenize yardımcı olabilir. Manüel olarak hiperparametreleri denemek yerine, __Grid Search__ otomatik olarak tüm kombinasyonları dener ve en iyi sonucu bulur."
   ]
  },
  {
   "cell_type": "code",
   "execution_count": 17,
   "metadata": {
    "execution": {
     "iopub.execute_input": "2023-10-28T22:04:08.476879Z",
     "iopub.status.busy": "2023-10-28T22:04:08.476321Z",
     "iopub.status.idle": "2023-10-28T22:04:38.065445Z",
     "shell.execute_reply": "2023-10-28T22:04:38.063620Z",
     "shell.execute_reply.started": "2023-10-28T22:04:08.476818Z"
    }
   },
   "outputs": [
    {
     "name": "stdout",
     "output_type": "stream",
     "text": [
      "Best Params {'C': 0.001}\n",
      "Best CV Score 0.6417974176587476\n"
     ]
    }
   ],
   "source": [
    "from sklearn.model_selection import GridSearchCV\n",
    "\n",
    "#lojistik regresyon modelinin düzenleme katsayısı (C)  \n",
    "param_grid = {'C': [0.001, 0.01, 0.1, 1, 10, 100]}\n",
    "\n",
    "\n",
    "grid_cv = GridSearchCV(model, param_grid, scoring = \"accuracy\", n_jobs=-1, cv=3)\n",
    "\n",
    "grid_cv.fit(X_train, y_train)\n",
    "\n",
    "en_iyi_model = grid_cv.best_estimator_\n",
    "\n",
    "\n",
    "print(\"Best Params\", grid_cv.best_params_)\n",
    "print(\"Best CV Score\", grid_cv.best_score_)"
   ]
  },
  {
   "cell_type": "markdown",
   "metadata": {},
   "source": [
    "Manuel hesaplamalarımızda en iyi sonuç olarak 0.56 değerini bulmuştuk ama Grid Search parametresiyle işlem yaptığımızda bu oranın 0.64 e yükselebildiğini gözlemledik."
   ]
  },
  {
   "cell_type": "markdown",
   "metadata": {},
   "source": [
    "Scikit-learn kütüphanesi, hiper parametre optimizasyonu için farklı teknikler sunar. Bu parametrelerden biri Grid Search iken bir diğeri ise Randomized Search'tür. Grid Search yerine Randomized Search de kullanabiliriz.\n",
    "\n",
    "Ama bunun sonucunda da en iyi skorun aynı olduğu gözlemlenmekte."
   ]
  },
  {
   "cell_type": "code",
   "execution_count": 18,
   "metadata": {
    "execution": {
     "iopub.execute_input": "2023-10-28T21:53:37.577859Z",
     "iopub.status.busy": "2023-10-28T21:53:37.576714Z",
     "iopub.status.idle": "2023-10-28T21:54:14.076522Z",
     "shell.execute_reply": "2023-10-28T21:54:14.074530Z",
     "shell.execute_reply.started": "2023-10-28T21:53:37.577781Z"
    }
   },
   "outputs": [
    {
     "name": "stdout",
     "output_type": "stream",
     "text": [
      "Best Params {'C': 47.936268660270024}\n",
      "Best CV Score 0.6417974176587476\n"
     ]
    }
   ],
   "source": [
    "from sklearn.model_selection import RandomizedSearchCV\n",
    "from scipy.stats import uniform\n",
    "\n",
    "#C hiperparametresi için 0.001 ile 100 arasında rastgele bir değer seçilmesi sağlanır\n",
    "param_dist = {\n",
    "    'C': uniform(loc=0.001, scale=100)\n",
    "}\n",
    "\n",
    "random_search = RandomizedSearchCV(model, param_distributions=param_dist, n_iter=10,\n",
    "                                   scoring=\"accuracy\", n_jobs=-1, cv=3)\n",
    "\n",
    "random_search.fit(X_train, y_train)\n",
    "\n",
    "best_model = random_search.best_estimator_\n",
    "best_params = random_search.best_params_\n",
    "\n",
    "y_pred = best_model.predict(X_test)\n",
    "\n",
    "print(\"Best Params\", best_params)\n",
    "\n",
    "print(\"Best CV Score\", random_search.best_score_)"
   ]
  },
  {
   "cell_type": "code",
   "execution_count": 19,
   "metadata": {},
   "outputs": [],
   "source": [
    "import joblib\n"
   ]
  },
  {
   "cell_type": "code",
   "execution_count": 20,
   "metadata": {
    "execution": {
     "iopub.execute_input": "2023-10-28T22:10:37.616793Z",
     "iopub.status.busy": "2023-10-28T22:10:37.616251Z",
     "iopub.status.idle": "2023-10-28T22:10:37.632943Z",
     "shell.execute_reply": "2023-10-28T22:10:37.630991Z",
     "shell.execute_reply.started": "2023-10-28T22:10:37.616753Z"
    }
   },
   "outputs": [
    {
     "data": {
      "text/plain": [
       "['lojistik_regresyon_model.pkl']"
      ]
     },
     "execution_count": 20,
     "metadata": {},
     "output_type": "execute_result"
    }
   ],
   "source": [
    "#Modeli kaydetmek için joblib veya pickle gibi Python kütüphaneleri kullanılır.\n",
    "#import pickle\n",
    "import joblib\n",
    "\n",
    "# Modeli diske kaydet\n",
    "model_filename = \"lojistik_regresyon_model.pkl\"\n",
    "joblib.dump(en_iyi_model, model_filename)\n"
   ]
  },
  {
   "cell_type": "markdown",
   "metadata": {},
   "source": [
    "Bu kod, en_iyi_model adlı en iyi modeli \"lojistik_regresyon_model.pkl\" adlı bir dosyaya kaydeder. Ardından çağırma işlemi bu dosya üzerinden yapılır ve tüm kod çalıştırılmadan model kaydedilmiş olur."
   ]
  },
  {
   "cell_type": "code",
   "execution_count": 21,
   "metadata": {
    "execution": {
     "iopub.execute_input": "2023-10-28T22:10:38.186484Z",
     "iopub.status.busy": "2023-10-28T22:10:38.185457Z",
     "iopub.status.idle": "2023-10-28T22:10:38.197639Z",
     "shell.execute_reply": "2023-10-28T22:10:38.195713Z",
     "shell.execute_reply.started": "2023-10-28T22:10:38.186417Z"
    }
   },
   "outputs": [],
   "source": [
    "#dosyadan modeli yükler. modelin yeni ismi de loaded_model olur\n",
    "\n",
    "loaded_model = joblib.load(\"lojistik_regresyon_model.pkl\")"
   ]
  },
  {
   "cell_type": "code",
   "execution_count": 22,
   "metadata": {
    "execution": {
     "iopub.execute_input": "2023-10-28T22:10:38.736087Z",
     "iopub.status.busy": "2023-10-28T22:10:38.735624Z",
     "iopub.status.idle": "2023-10-28T22:10:38.809954Z",
     "shell.execute_reply": "2023-10-28T22:10:38.807914Z",
     "shell.execute_reply.started": "2023-10-28T22:10:38.736042Z"
    }
   },
   "outputs": [],
   "source": [
    "y_pred = loaded_model.predict(X_test)"
   ]
  },
  {
   "cell_type": "markdown",
   "metadata": {},
   "source": [
    "loaded_model adlı yüklenen modeli kullanarak X_test verileri üzerinde tahminler yapabiliriz. Tüm kodu çalıştırmak yerine sadece loaded_model i çağırmak yeterli olacaktır."
   ]
  },
  {
   "cell_type": "code",
   "execution_count": null,
   "metadata": {},
   "outputs": [],
   "source": []
  }
 ],
 "metadata": {
  "kernelspec": {
   "display_name": "Python 3 (ipykernel)",
   "language": "python",
   "name": "python3"
  },
  "language_info": {
   "codemirror_mode": {
    "name": "ipython",
    "version": 3
   },
   "file_extension": ".py",
   "mimetype": "text/x-python",
   "name": "python",
   "nbconvert_exporter": "python",
   "pygments_lexer": "ipython3",
   "version": "3.11.5"
  }
 },
 "nbformat": 4,
 "nbformat_minor": 4
}
